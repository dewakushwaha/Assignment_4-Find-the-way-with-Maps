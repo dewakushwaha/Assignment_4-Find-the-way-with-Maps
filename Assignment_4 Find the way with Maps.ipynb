{
 "cells": [
  {
   "cell_type": "code",
   "execution_count": 1,
   "id": "347b510c",
   "metadata": {},
   "outputs": [],
   "source": [
    "# Write a Python program to triple all numbers of a given list of integers. Use Python map."
   ]
  },
  {
   "cell_type": "code",
   "execution_count": 4,
   "id": "96b1e5a5",
   "metadata": {},
   "outputs": [
    {
     "data": {
      "text/plain": [
       "[3, 6, 9, 12, 15, 18, 21]"
      ]
     },
     "execution_count": 4,
     "metadata": {},
     "output_type": "execute_result"
    }
   ],
   "source": [
    "l = [1, 2, 3, 4, 5, 6, 7]\n",
    "list(map((lambda x:x*3),l))"
   ]
  },
  {
   "cell_type": "code",
   "execution_count": null,
   "id": "f01e898c",
   "metadata": {},
   "outputs": [],
   "source": []
  }
 ],
 "metadata": {
  "kernelspec": {
   "display_name": "Python 3 (ipykernel)",
   "language": "python",
   "name": "python3"
  },
  "language_info": {
   "codemirror_mode": {
    "name": "ipython",
    "version": 3
   },
   "file_extension": ".py",
   "mimetype": "text/x-python",
   "name": "python",
   "nbconvert_exporter": "python",
   "pygments_lexer": "ipython3",
   "version": "3.9.7"
  }
 },
 "nbformat": 4,
 "nbformat_minor": 5
}
